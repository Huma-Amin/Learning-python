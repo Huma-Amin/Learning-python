{
 "cells": [
  {
   "cell_type": "code",
   "execution_count": 2,
   "id": "69a025d4",
   "metadata": {},
   "outputs": [
    {
     "name": "stdout",
     "output_type": "stream",
     "text": [
      "You win!!!\n"
     ]
    }
   ],
   "source": [
    "#Guess Game\n",
    "secret_no = 8\n",
    "guess_count = 0\n",
    "guess_limit = 3\n",
    "\n",
    "while guess_count < guess_limit:\n",
    "    guess=int(input('Guess: '))\n",
    "    guess_count += 1\n",
    "    if guess == secret_no:\n",
    "        print('You win!!!')\n",
    "        break\n",
    "\n",
    "else:\n",
    "    print('You Loss!!!')\n"
   ]
  },
  {
   "cell_type": "code",
   "execution_count": 6,
   "id": "249743e1",
   "metadata": {},
   "outputs": [
    {
     "name": "stdout",
     "output_type": "stream",
     "text": [
      "Car has already Stopped\n",
      "Car has already Stopped\n",
      "Car Started!\n",
      "Sorry! I don't understand...\n",
      "Car has already started\n"
     ]
    }
   ],
   "source": [
    "#Car Game\n",
    "command = \"\"\n",
    "start = False\n",
    "while True:\n",
    "    command = input(\"> \").lower()\n",
    "    if command == \"start\":\n",
    "        if start:\n",
    "            print(\"Car has already started\")\n",
    "        else:\n",
    "            start = True    \n",
    "            print(\"Car Started!\")\n",
    "    elif command == \"stop\":\n",
    "        if not start:\n",
    "            print(\"Car has already Stopped\")\n",
    "        else:\n",
    "            start = False   \n",
    "            print(\"Car Stopped!\")\n",
    "    elif command == \"help\":\n",
    "        print(\"\"\"\n",
    "start - to start the car\n",
    "stop - to stop the car\n",
    "quit - to quit\n",
    "\"\"\")\n",
    "    elif command == \"quit\":\n",
    "        break\n",
    "    else:\n",
    "        print(\"Sorry! I don't understand...\")\n"
   ]
  },
  {
   "cell_type": "code",
   "execution_count": 8,
   "id": "b8aab2c3",
   "metadata": {},
   "outputs": [
    {
     "name": "stdout",
     "output_type": "stream",
     "text": [
      "Total Price = 102\n"
     ]
    }
   ],
   "source": [
    "#for loop\n",
    "prices = [10, 20, 30, 42]\n",
    "total=0\n",
    "for item in prices:\n",
    "    total = total+item\n",
    "print(f\"Total Price = {total}\")"
   ]
  },
  {
   "cell_type": "code",
   "execution_count": 11,
   "id": "fa1ab6f1",
   "metadata": {},
   "outputs": [
    {
     "name": "stdout",
     "output_type": "stream",
     "text": [
      "xxxxx\n",
      "xx\n",
      "xxxxx\n",
      "xx\n",
      "xx\n"
     ]
    }
   ],
   "source": [
    "#nested loops\n",
    "numbers = [5, 2, 5, 2, 2]\n",
    "for n in numbers:\n",
    "    result = ''\n",
    "    for r in range(n):\n",
    "        result += 'x'\n",
    "    print(result)    "
   ]
  },
  {
   "cell_type": "code",
   "execution_count": 16,
   "id": "fd3aec9b",
   "metadata": {},
   "outputs": [
    {
     "name": "stdout",
     "output_type": "stream",
     "text": [
      "x\n",
      "x\n",
      "x\n",
      "xxxxx\n"
     ]
    }
   ],
   "source": [
    "#nested loops\n",
    "numbers = [1, 1, 1, 5]\n",
    "for n in numbers:\n",
    "    result = ''\n",
    "    for r in range(n):\n",
    "        result += 'x'\n",
    "    print(result) "
   ]
  },
  {
   "cell_type": "code",
   "execution_count": 18,
   "id": "8acb22a2",
   "metadata": {},
   "outputs": [
    {
     "name": "stdout",
     "output_type": "stream",
     "text": [
      "32\n"
     ]
    }
   ],
   "source": [
    "#largest number\n",
    "numbers = [2, 4, 7, 9, 32, 0, 15, 4]\n",
    "maximum = numbers[0]\n",
    "for n in numbers:\n",
    "    if n > maximum:\n",
    "        maximum = n\n",
    "print(maximum)"
   ]
  },
  {
   "cell_type": "code",
   "execution_count": 4,
   "id": "34b70321",
   "metadata": {},
   "outputs": [
    {
     "name": "stdout",
     "output_type": "stream",
     "text": [
      "Zero Three Three Three One Two Three Four Five Six Seven \n"
     ]
    }
   ],
   "source": [
    "#dictionaries\n",
    "phone = input(\"Phone Number: \")\n",
    "digits_words = {\n",
    "    \"1\": \"One\",\n",
    "    \"2\":\"Two\",\n",
    "    \"3\":\"Three\",\n",
    "    \"4\":\"Four\",\n",
    "    \"5\":\"Five\",\n",
    "    \"6\":\"Six\",\n",
    "    \"7\":\"Seven\",\n",
    "    \"8\":\"Eight\",\n",
    "    \"9\":\"Nine\",\n",
    "    \"0\":\"Zero\"\n",
    "}\n",
    "output = \"\"\n",
    "for n in phone:\n",
    "    output += digits_words.get(n) +\" \"\n",
    "print(output)    "
   ]
  },
  {
   "cell_type": "code",
   "execution_count": 6,
   "id": "96652a94",
   "metadata": {},
   "outputs": [
    {
     "name": "stdout",
     "output_type": "stream",
     "text": [
      "good morning 😀 \n"
     ]
    }
   ],
   "source": [
    "#function\n",
    "user_msg = input(\">\")\n",
    "def emoji_converter(user_msg):\n",
    "    message = user_msg.split(\" \")\n",
    "    emoji = {\n",
    "        \":)\" : \"😀\",\n",
    "        \":(\" : \"😟\"\n",
    "    }\n",
    "    output = \"\"\n",
    "    for word in message:\n",
    "        output += emoji.get(word, word) + \" \"\n",
    "    \n",
    "    return output    \n",
    "\n",
    "result = emoji_converter(user_msg)\n",
    "print(result)\n",
    "\n"
   ]
  },
  {
   "cell_type": "code",
   "execution_count": 8,
   "id": "423a6da0",
   "metadata": {},
   "outputs": [
    {
     "name": "stdout",
     "output_type": "stream",
     "text": [
      "I am Farwa.I like reading, cooking and drawing.\n",
      "I am Ali.I like reading, cooking and drawing.\n"
     ]
    }
   ],
   "source": [
    "#class\n",
    "class Student :\n",
    "    def __init__(self, name):\n",
    "        self.name=name\n",
    "\n",
    "    def hobbies(self):\n",
    "        print(f'I am {self.name}.I like reading, cooking and drawing.')\n",
    "\n",
    "farwa = Student(\"Farwa\")\n",
    "farwa.hobbies()\n",
    "\n",
    "ali = Student(\"Ali\")\n",
    "ali.hobbies()"
   ]
  },
  {
   "cell_type": "code",
   "execution_count": 12,
   "id": "73a2c6d0",
   "metadata": {},
   "outputs": [
    {
     "name": "stdout",
     "output_type": "stream",
     "text": [
      "meow\n",
      "walk\n"
     ]
    }
   ],
   "source": [
    "#inheritence\n",
    "class Animal:\n",
    "    def walk(self):\n",
    "        print(\"walk\")\n",
    "\n",
    "class Cat(Animal):\n",
    "    def meow(self):\n",
    "        print(\"meow\")\n",
    "\n",
    "class Dog(Animal):\n",
    "    def bark(self):\n",
    "        print(\"bark\")\n",
    "\n",
    "cat1 = Cat()\n",
    "cat1.meow()\n",
    "cat1.walk()"
   ]
  },
  {
   "cell_type": "code",
   "execution_count": 20,
   "id": "34bf7d4b",
   "metadata": {},
   "outputs": [
    {
     "name": "stdout",
     "output_type": "stream",
     "text": [
      "(2, 1)\n"
     ]
    }
   ],
   "source": [
    "import random\n",
    "\n",
    "class Dice:\n",
    "    def roll(self):\n",
    "        number1 = random.randint(1, 6)\n",
    "        number2 = random.randint(1, 6)\n",
    "\n",
    "        return (number1, number2)\n",
    "    \n",
    "dice= Dice()\n",
    "print(dice.roll())"
   ]
  }
 ],
 "metadata": {
  "kernelspec": {
   "display_name": "Python 3",
   "language": "python",
   "name": "python3"
  },
  "language_info": {
   "codemirror_mode": {
    "name": "ipython",
    "version": 3
   },
   "file_extension": ".py",
   "mimetype": "text/x-python",
   "name": "python",
   "nbconvert_exporter": "python",
   "pygments_lexer": "ipython3",
   "version": "3.13.2"
  }
 },
 "nbformat": 4,
 "nbformat_minor": 5
}
