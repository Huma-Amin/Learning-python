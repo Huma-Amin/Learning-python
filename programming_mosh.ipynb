{
 "cells": [
  {
   "cell_type": "code",
   "execution_count": 2,
   "id": "69a025d4",
   "metadata": {},
   "outputs": [
    {
     "name": "stdout",
     "output_type": "stream",
     "text": [
      "You win!!!\n"
     ]
    }
   ],
   "source": [
    "#Guess Game\n",
    "secret_no = 8\n",
    "guess_count = 0\n",
    "guess_limit = 3\n",
    "\n",
    "while guess_count < guess_limit:\n",
    "    guess=int(input('Guess: '))\n",
    "    guess_count += 1\n",
    "    if guess == secret_no:\n",
    "        print('You win!!!')\n",
    "        break\n",
    "\n",
    "else:\n",
    "    print('You Loss!!!')\n"
   ]
  },
  {
   "cell_type": "code",
   "execution_count": 6,
   "id": "249743e1",
   "metadata": {},
   "outputs": [
    {
     "name": "stdout",
     "output_type": "stream",
     "text": [
      "Car has already Stopped\n",
      "Car has already Stopped\n",
      "Car Started!\n",
      "Sorry! I don't understand...\n",
      "Car has already started\n"
     ]
    }
   ],
   "source": [
    "#Car Game\n",
    "command = \"\"\n",
    "start = False\n",
    "while True:\n",
    "    command = input(\"> \").lower()\n",
    "    if command == \"start\":\n",
    "        if start:\n",
    "            print(\"Car has already started\")\n",
    "        else:\n",
    "            start = True    \n",
    "            print(\"Car Started!\")\n",
    "    elif command == \"stop\":\n",
    "        if not start:\n",
    "            print(\"Car has already Stopped\")\n",
    "        else:\n",
    "            start = False   \n",
    "            print(\"Car Stopped!\")\n",
    "    elif command == \"help\":\n",
    "        print(\"\"\"\n",
    "start - to start the car\n",
    "stop - to stop the car\n",
    "quit - to quit\n",
    "\"\"\")\n",
    "    elif command == \"quit\":\n",
    "        break\n",
    "    else:\n",
    "        print(\"Sorry! I don't understand...\")\n"
   ]
  },
  {
   "cell_type": "code",
   "execution_count": 8,
   "id": "b8aab2c3",
   "metadata": {},
   "outputs": [
    {
     "name": "stdout",
     "output_type": "stream",
     "text": [
      "Total Price = 102\n"
     ]
    }
   ],
   "source": [
    "#for loop\n",
    "prices = [10, 20, 30, 42]\n",
    "total=0\n",
    "for item in prices:\n",
    "    total = total+item\n",
    "print(f\"Total Price = {total}\")"
   ]
  },
  {
   "cell_type": "code",
   "execution_count": 11,
   "id": "fa1ab6f1",
   "metadata": {},
   "outputs": [
    {
     "name": "stdout",
     "output_type": "stream",
     "text": [
      "xxxxx\n",
      "xx\n",
      "xxxxx\n",
      "xx\n",
      "xx\n"
     ]
    }
   ],
   "source": [
    "#nested loops\n",
    "numbers = [5, 2, 5, 2, 2]\n",
    "for n in numbers:\n",
    "    result = ''\n",
    "    for r in range(n):\n",
    "        result += 'x'\n",
    "    print(result)    "
   ]
  },
  {
   "cell_type": "code",
   "execution_count": 16,
   "id": "fd3aec9b",
   "metadata": {},
   "outputs": [
    {
     "name": "stdout",
     "output_type": "stream",
     "text": [
      "x\n",
      "x\n",
      "x\n",
      "xxxxx\n"
     ]
    }
   ],
   "source": [
    "#nested loops\n",
    "numbers = [1, 1, 1, 5]\n",
    "for n in numbers:\n",
    "    result = ''\n",
    "    for r in range(n):\n",
    "        result += 'x'\n",
    "    print(result) "
   ]
  },
  {
   "cell_type": "code",
   "execution_count": 18,
   "id": "8acb22a2",
   "metadata": {},
   "outputs": [
    {
     "name": "stdout",
     "output_type": "stream",
     "text": [
      "32\n"
     ]
    }
   ],
   "source": [
    "#largest number\n",
    "numbers = [2, 4, 7, 9, 32, 0, 15, 4]\n",
    "maximum = numbers[0]\n",
    "for n in numbers:\n",
    "    if n > maximum:\n",
    "        maximum = n\n",
    "print(maximum)"
   ]
  }
 ],
 "metadata": {
  "kernelspec": {
   "display_name": "Python 3",
   "language": "python",
   "name": "python3"
  },
  "language_info": {
   "codemirror_mode": {
    "name": "ipython",
    "version": 3
   },
   "file_extension": ".py",
   "mimetype": "text/x-python",
   "name": "python",
   "nbconvert_exporter": "python",
   "pygments_lexer": "ipython3",
   "version": "3.13.2"
  }
 },
 "nbformat": 4,
 "nbformat_minor": 5
}
